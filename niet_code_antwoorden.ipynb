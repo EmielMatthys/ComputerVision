{
 "cells": [
  {
   "cell_type": "markdown",
   "metadata": {},
   "source": [
    "# Niet-code oplossingen\n",
    "---------------------------------------"
   ]
  },
  {
   "cell_type": "markdown",
   "metadata": {},
   "source": [
    "### PCA vs auto-encoder: Consider auto-encoder that mimics linear PCA, explain how you can do this and what the differences are.\n",
    "\n",
    "By creating an AE with one hidden layer (code) of node-size *p*, the weights of the trained AE will span the same subspace as the first *p* principal components. They are, however, not necesarily the same or even linear. An SVD of the weights would allow to calculate the linear values.\n",
    "\n",
    "Because of the non-linearity, AE's have more potential and allows for more powerful generalizations than PCA and reconstruct with less loss of information. [Hinton, G. E.; Salakhutdinov, R.R. (28 July 2006). \"Reducing the Dimensionality of Data with Neural Networks\". Science. 313 (5786): 504–507.]"
   ]
  },
  {
   "cell_type": "code",
   "execution_count": null,
   "metadata": {},
   "outputs": [],
   "source": []
  }
 ],
 "metadata": {
  "kernelspec": {
   "display_name": "Python 2",
   "language": "python",
   "name": "python2"
  },
  "language_info": {
   "codemirror_mode": {
    "name": "ipython",
    "version": 2
   },
   "file_extension": ".py",
   "mimetype": "text/x-python",
   "name": "python",
   "nbconvert_exporter": "python",
   "pygments_lexer": "ipython2",
   "version": "2.7.15+"
  }
 },
 "nbformat": 4,
 "nbformat_minor": 2
}
