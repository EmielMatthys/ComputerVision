{
 "cells": [
  {
   "cell_type": "markdown",
   "metadata": {},
   "source": [
    "Main script notebook version"
   ]
  },
  {
   "cell_type": "code",
   "execution_count": 1,
   "metadata": {},
   "outputs": [
    {
     "name": "stderr",
     "output_type": "stream",
     "text": [
      "Using TensorFlow backend.\n",
      "/usr/local/lib/python2.7/dist-packages/skimage/transform/_warps.py:105: UserWarning: The default mode, 'constant', will be changed to 'reflect' in skimage 0.15.\n",
      "  warn(\"The default mode, 'constant', will be changed to 'reflect' in \"\n",
      "/usr/local/lib/python2.7/dist-packages/skimage/transform/_warps.py:110: UserWarning: Anti-aliasing will be enabled by default in skimage 0.15 to avoid aliasing artifacts when down-sampling images.\n",
      "  warn(\"Anti-aliasing will be enabled by default in skimage 0.15 to \"\n"
     ]
    },
    {
     "name": "stdout",
     "output_type": "stream",
     "text": [
      "1489 training images from 5 classes\n",
      "1470 validation images from 5 classes\n",
      "(1489, 128, 128, 3)\n"
     ]
    }
   ],
   "source": [
    "import matplotlib.pyplot as plt\n",
    "from keras.models import *\n",
    "from keras.layers import *\n",
    "import cv2\n",
    "import numpy as np\n",
    "import random\n",
    "# from keras.callbacks import TensorBoard\n",
    "\n",
    "random.seed = 10\n",
    "\n",
    "#Conventie: genereer x_train, x_val 1 keer en houdt in spyder variable storage\n",
    "#          gebruik X_train en X_store voor aanpassingen.\n",
    "if not 'x_train' in globals():\n",
    "    from project_dataset_script_v2 import x_train, x_val\n",
    "    \n",
    "print(x_train.shape)    \n",
    "num_classes = 5\n",
    "X_train = x_train\n",
    "X_val = x_val\n",
    "#X_train_gray_flat = np.array(X_train_gray)"
   ]
  },
  {
   "cell_type": "code",
   "execution_count": 2,
   "metadata": {},
   "outputs": [
    {
     "name": "stdout",
     "output_type": "stream",
     "text": [
      "WARNING:tensorflow:From /usr/local/lib/python2.7/dist-packages/tensorflow/python/framework/op_def_library.py:263: colocate_with (from tensorflow.python.framework.ops) is deprecated and will be removed in a future version.\n",
      "Instructions for updating:\n",
      "Colocations handled automatically by placer.\n",
      "Now compiling autoencoder\n"
     ]
    }
   ],
   "source": [
    "n_epochs = 1\n",
    "n_batches = 32\n",
    "\n",
    "n, img_rows, img_cols, n_channels = x_train.shape\n",
    "\n",
    "input_img = Input(shape=(img_rows, img_cols, n_channels))\n",
    "\n",
    "x = Conv2D(64, 3, activation='relu', padding='same')(input_img)\n",
    "x = MaxPooling2D((2,2), padding='same')(x)\n",
    "x = Conv2D(32, 3, activation='relu', padding='same')(x)\n",
    "x = MaxPool2D((2,2), padding='same')(x)\n",
    "x = Conv2D(32, 3, activation='relu', padding='same')(x)\n",
    "x = MaxPool2D((2,2), padding='same')(x)\n",
    "\n",
    "x = Conv2D(32, 3, activation='relu', padding='same')(x)\n",
    "x = UpSampling2D((2,2))(x)\n",
    "x = Conv2D(32, 3, activation='relu', padding='same')(x)\n",
    "x = UpSampling2D((2,2))(x)\n",
    "x = Conv2D(64, 3, activation='relu', padding='same')(x)\n",
    "x = UpSampling2D((2,2))(x)\n",
    "decoded = Conv2D(3, 3, activation='sigmoid', padding='same')(x)\n",
    "\n",
    "#Model initialization and compile\n",
    "print('Now compiling autoencoder')\n",
    "autoencoder = Model(input_img, decoded)\n",
    "autoencoder.compile(optimizer='adam', loss='binary_crossentropy')"
   ]
  },
  {
   "cell_type": "code",
   "execution_count": null,
   "metadata": {},
   "outputs": [
    {
     "name": "stdout",
     "output_type": "stream",
     "text": [
      "WARNING:tensorflow:From /usr/local/lib/python2.7/dist-packages/tensorflow/python/ops/math_ops.py:3066: to_int32 (from tensorflow.python.ops.math_ops) is deprecated and will be removed in a future version.\n",
      "Instructions for updating:\n",
      "Use tf.cast instead.\n",
      "Train on 1489 samples, validate on 1470 samples\n",
      "Epoch 1/1\n",
      " 704/1489 [=============>................] - ETA: 1:03 - loss: 0.6579"
     ]
    }
   ],
   "source": [
    "autoencoder.fit(x_train, x_train, \n",
    "                epochs=n_epochs,\n",
    "                batch_size=n_batches,\n",
    "                verbose=1,\n",
    "                validation_data=(x_val,x_val)\n",
    "                )"
   ]
  },
  {
   "cell_type": "code",
   "execution_count": null,
   "metadata": {},
   "outputs": [],
   "source": [
    "random_indices = [random.randint(0, x_val.shape[0]) for i in range(10)] \n",
    "reconstruction_error_list = []\n",
    "val_images = autoencoder.predict(x_val)\n",
    "fig = plt.figure(figsize=(25,5))\n",
    "ax = fig.subplots(2, 10)\n",
    "i=0\n",
    "for index in random_indices:\n",
    "   dec = val_images[index]\n",
    "   act = x_val[index].astype('float32')\n",
    "   reconstruction_error_list.append(np.mean(((dec-act)*(dec-act))))\n",
    "   ax[0,i].imshow(act)\n",
    "   ax[0,i].axis('off')\n",
    "   ax[0,i].set_title('Original Image', fontdict={'fontsize': 12, 'fontweight': 'medium'})\n",
    "   ax[1,i].imshow(dec)\n",
    "   ax[1,i].axis('off')\n",
    "   ax[1,i].set_title('Reconstructed Image', fontdict={'fontsize': 12, 'fontweight': 'medium'})\n",
    "   i = i+1\n",
    "print('Reconstruction error on entire dataset: ' + str(np.round(np.sqrt(np.mean(reconstruction_error_list)),4)))\n",
    "plt.show()"
   ]
  },
  {
   "cell_type": "code",
   "execution_count": null,
   "metadata": {},
   "outputs": [],
   "source": [
    "# serialize model to JSON\n",
    "model_json = autoencoder.to_json()\n",
    "with open(\"autoencoder.json\", \"w\") as json_file:\n",
    "    json_file.write(model_json)\n",
    "# serialize weights to HDF5\n",
    "autoencoder.save_weights(\"autoencoder.h5\")\n",
    "with open('autoencoder_history_dict', 'wb') as file_pi:\n",
    "    pickle.dump(history.history, file_pi)\n",
    "\n",
    "print(\"Saved model & history to disk\")"
   ]
  },
  {
   "cell_type": "code",
   "execution_count": null,
   "metadata": {},
   "outputs": [],
   "source": []
  }
 ],
 "metadata": {
  "kernelspec": {
   "display_name": "Python 2",
   "language": "python",
   "name": "python2"
  },
  "language_info": {
   "codemirror_mode": {
    "name": "ipython",
    "version": 2
   },
   "file_extension": ".py",
   "mimetype": "text/x-python",
   "name": "python",
   "nbconvert_exporter": "python",
   "pygments_lexer": "ipython2",
   "version": "2.7.15+"
  }
 },
 "nbformat": 4,
 "nbformat_minor": 2
}
